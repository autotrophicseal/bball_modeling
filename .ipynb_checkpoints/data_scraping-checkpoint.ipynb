{
 "cells": [
  {
   "cell_type": "code",
   "execution_count": 11,
   "id": "54a741db",
   "metadata": {},
   "outputs": [],
   "source": [
    "from selenium import webdriver\n",
    "from selenium.webdriver.common.keys import Keys\n",
    "from selenium.webdriver.common.by import By"
   ]
  },
  {
   "cell_type": "code",
   "execution_count": 5,
   "id": "3dbc2be3",
   "metadata": {},
   "outputs": [],
   "source": [
    "driver = webdriver.Chrome()\n",
    "driver.get(\"https://sportsbook.fanduel.com/navigation/ncaab\")"
   ]
  },
  {
   "cell_type": "code",
   "execution_count": 46,
   "id": "7053807a",
   "metadata": {},
   "outputs": [],
   "source": [
    "games_element = driver.find_element(By.XPATH, \"//*[@id='main']/div/div[1]/div/div[2]/div[3]/ul\")"
   ]
  },
  {
   "cell_type": "code",
   "execution_count": 16,
   "id": "98b4be46",
   "metadata": {},
   "outputs": [],
   "source": [
    "li_elements = games_element.find_elements(By.TAG_NAME, 'li')"
   ]
  },
  {
   "cell_type": "code",
   "execution_count": 36,
   "id": "0ad3ec69",
   "metadata": {},
   "outputs": [
    {
     "data": {
      "text/plain": [
       "<selenium.webdriver.remote.webelement.WebElement (session=\"597822aea30f0a57e39ff95bfcd99fc5\", element=\"FCCD49804BA7E6001A1C011E391ED4EF_element_26862\")>"
      ]
     },
     "execution_count": 36,
     "metadata": {},
     "output_type": "execute_result"
    }
   ],
   "source": []
  },
  {
   "cell_type": "code",
   "execution_count": 47,
   "id": "8f2decf4",
   "metadata": {},
   "outputs": [],
   "source": [
    "links = []"
   ]
  },
  {
   "cell_type": "code",
   "execution_count": 48,
   "id": "412c0767",
   "metadata": {},
   "outputs": [
    {
     "name": "stdout",
     "output_type": "stream",
     "text": [
      "Couldn't find 1\n",
      "Couldn't find 2\n",
      "Couldn't find 5\n",
      "Couldn't find 12\n",
      "Couldn't find 19\n",
      "Couldn't find 38\n",
      "Couldn't find 40\n",
      "Couldn't find 43\n",
      "Couldn't find 45\n",
      "Couldn't find 60\n",
      "Couldn't find 62\n",
      "Couldn't find 68\n",
      "Couldn't find 73\n",
      "Couldn't find 78\n",
      "Couldn't find 82\n",
      "Couldn't find 86\n"
     ]
    }
   ],
   "source": [
    "for i in range(1,len(li_elements)):\n",
    "    try:\n",
    "        object_ = games_element.find_element(By.XPATH, \"//*[@id='main']/div/div[1]/div/div[2]/div[3]/ul/li[{}]/div/div/a\".format(i))\n",
    "        links.append(object_.get_attribute('href'))\n",
    "    except Exception as e1:\n",
    "        try:\n",
    "            object_ = games_element.find_element(By.XPATH, \"//*[@id='main']/div/div[1]/div/div[2]/div[3]/ul/li[{}]/div/div/div[2]/a\".format(i))\n",
    "            links.append(object_.get_attribute('href'))\n",
    "        except Exception as e2:\n",
    "            print(\"Couldn't find {}\".format(i))"
   ]
  },
  {
   "cell_type": "code",
   "execution_count": 49,
   "id": "ca305717",
   "metadata": {},
   "outputs": [
    {
     "data": {
      "text/plain": [
       "['https://sportsbook.fanduel.com/basketball/ncaa-basketball-mens-games/central-connecticut-@-quinnipiac-32788828',\n",
       " 'https://sportsbook.fanduel.com/basketball/ncaa-basketball-mens-games/charlotte-@-liberty-32788689',\n",
       " 'https://sportsbook.fanduel.com/basketball/ncaab-mens-games/umass-lowell-@-dartmouth-32788861',\n",
       " 'https://sportsbook.fanduel.com/basketball/ncaab-mens-games/charleston-@-duquesne-32788691',\n",
       " 'https://sportsbook.fanduel.com/basketball/ncaab-mens-games/kennesaw-state-@-florida-state-32788859',\n",
       " 'https://sportsbook.fanduel.com/basketball/ncaab-mens-games/penn-@-st-josephs-32788695',\n",
       " 'https://sportsbook.fanduel.com/basketball/ncaab-mens-games/youngstown-state-@-michigan-32788692',\n",
       " 'https://sportsbook.fanduel.com/basketball/ncaab-mens-games/jacksonville-@-xavier-32788860',\n",
       " 'https://sportsbook.fanduel.com/basketball/ncaa-basketball-mens-games/davidson-@-maryland-32788541',\n",
       " 'https://sportsbook.fanduel.com/basketball/ncaa-basketball-mens-games/texas-a-m-@-ohio-state-32788522',\n",
       " 'https://sportsbook.fanduel.com/basketball/ncaa-basketball-mens-games/wake-forest-@-georgia-32788559',\n",
       " 'https://sportsbook.fanduel.com/basketball/ncaa-basketball-mens-games/ucf-@-miami-32788564',\n",
       " 'https://sportsbook.fanduel.com/basketball/ncaa-basketball-mens-games/morehead-state-@-purdue-32788552',\n",
       " 'https://sportsbook.fanduel.com/basketball/ncaa-basketball-mens-games/virginia-@-florida-32788546',\n",
       " 'https://sportsbook.fanduel.com/basketball/ncaab-mens-games/north-carolina-a-t-@-unc-greensboro-32788722',\n",
       " 'https://sportsbook.fanduel.com/basketball/ncaab-mens-games/boston-university-@-rutgers-32789198',\n",
       " 'https://sportsbook.fanduel.com/basketball/ncaab-mens-games/belmont-@-furman-32788693',\n",
       " 'https://sportsbook.fanduel.com/basketball/ncaab-mens-games/boston-college-@-citadel-32788706',\n",
       " 'https://sportsbook.fanduel.com/basketball/ncaab-mens-games/binghamton-@-pittsburgh-32788842',\n",
       " 'https://sportsbook.fanduel.com/basketball/ncaab-mens-games/austin-peay-@-george-mason-32788843',\n",
       " 'https://sportsbook.fanduel.com/basketball/ncaab-mens-games/monmouth-@-wv-mountaineers-32789049',\n",
       " 'https://sportsbook.fanduel.com/basketball/ncaab-mens-games/samford-@-vcu-32788726',\n",
       " 'https://sportsbook.fanduel.com/basketball/ncaab-mens-games/texas-a-m-commerce-@-kentucky-32788864',\n",
       " 'https://sportsbook.fanduel.com/basketball/ncaab-mens-games/abilene-christian-@-north-carolina-state-32788737',\n",
       " 'https://sportsbook.fanduel.com/basketball/ncaab-mens-games/troy-@-oregon-state-32788704',\n",
       " 'https://sportsbook.fanduel.com/basketball/ncaab-mens-games/southern-miss-@-akron-32788705',\n",
       " 'https://sportsbook.fanduel.com/basketball/ncaab-mens-games/princeton-@-hofstra-32789023',\n",
       " 'https://sportsbook.fanduel.com/basketball/ncaab-mens-games/usc-upstate-@-vanderbilt-32788855',\n",
       " 'https://sportsbook.fanduel.com/basketball/ncaab-mens-games/sacred-heart-@-iona-32788850',\n",
       " 'https://sportsbook.fanduel.com/basketball/ncaab-mens-games/radford-@-marshall-32788866',\n",
       " 'https://sportsbook.fanduel.com/basketball/ncaab-mens-games/chattanooga-@-louisville-32788795',\n",
       " 'https://sportsbook.fanduel.com/basketball/ncaab-mens-games/detroit-mercy-@-cincinnati-32788730',\n",
       " 'https://sportsbook.fanduel.com/basketball/ncaa-basketball-mens-games/arizona-@-duke-32785919',\n",
       " 'https://sportsbook.fanduel.com/basketball/ncaab-mens-games/utsa-@-minnesota-32788742',\n",
       " 'https://sportsbook.fanduel.com/basketball/ncaab-mens-games/lehigh-@-penn-state-32788847',\n",
       " 'https://sportsbook.fanduel.com/basketball/ncaa-basketball-mens-games/manhattan-@-kansas-32788803',\n",
       " 'https://sportsbook.fanduel.com/basketball/ncaab-mens-games/se-louisiana-@-auburn-32788854',\n",
       " 'https://sportsbook.fanduel.com/basketball/ncaab-mens-games/indiana-state-@-alabama-32788751',\n",
       " 'https://sportsbook.fanduel.com/basketball/ncaab-mens-games/gardner-webb-@-arkansas-32788846',\n",
       " 'https://sportsbook.fanduel.com/basketball/ncaab-mens-games/bellarmine-@-kansas-state-32788841',\n",
       " 'https://sportsbook.fanduel.com/basketball/ncaab-mens-games/queens-nc-@-southern-illinois-32788849',\n",
       " 'https://sportsbook.fanduel.com/basketball/ncaab-mens-games/harvard-@-rice-32788750',\n",
       " 'https://sportsbook.fanduel.com/basketball/ncaab-mens-games/tennessee-tech-@-murray-state-32788721',\n",
       " 'https://sportsbook.fanduel.com/basketball/ncaab-mens-games/ut-rio-grande-valley-@-south-dakota-32788725',\n",
       " 'https://sportsbook.fanduel.com/basketball/ncaab-mens-games/oakland-@-illinois-32788735',\n",
       " 'https://sportsbook.fanduel.com/basketball/ncaab-mens-games/miss-valley-state-@-oklahoma-32788862',\n",
       " 'https://sportsbook.fanduel.com/basketball/ncaab-mens-games/eastern-washington-@-ole-miss-32788738',\n",
       " 'https://sportsbook.fanduel.com/basketball/ncaab-mens-games/alabama-state-@-iowa-32788852',\n",
       " 'https://sportsbook.fanduel.com/basketball/ncaab-mens-games/grambling-state-@-colorado-32788838',\n",
       " 'https://sportsbook.fanduel.com/basketball/ncaab-mens-games/nicholls-@-lsu-32788848',\n",
       " 'https://sportsbook.fanduel.com/basketball/ncaa-basketball-mens-games/dayton-@-northwestern-32788804',\n",
       " 'https://sportsbook.fanduel.com/basketball/ncaab-mens-games/idaho-state-@-st.-thomas-32788723',\n",
       " 'https://sportsbook.fanduel.com/basketball/ncaab-mens-games/se-missouri-state-@-butler-32788724',\n",
       " 'https://sportsbook.fanduel.com/basketball/ncaab-mens-games/arkansas-little-rock-@-illinois-chicago-32788731',\n",
       " 'https://sportsbook.fanduel.com/basketball/ncaab-mens-games/temple-@-navy-32788844',\n",
       " 'https://sportsbook.fanduel.com/basketball/ncaab-mens-games/rider-@-marquette-32789174',\n",
       " 'https://sportsbook.fanduel.com/basketball/ncaa-basketball-mens-games/san-diego-state-@-byu-32788810',\n",
       " 'https://sportsbook.fanduel.com/basketball/ncaa-basketball-mens-games/yale-@-gonzaga-32788809',\n",
       " 'https://sportsbook.fanduel.com/basketball/ncaa-basketball-mens-games/memphis-@-missouri-32788817',\n",
       " 'https://sportsbook.fanduel.com/basketball/ncaa-basketball-mens-games/montana-@-oregon-32788813',\n",
       " 'https://sportsbook.fanduel.com/basketball/ncaab-mens-games/iupui-@-valparaiso-32788765',\n",
       " 'https://sportsbook.fanduel.com/basketball/ncaab-mens-games/wright-state-@-colorado-state-32788761',\n",
       " 'https://sportsbook.fanduel.com/basketball/ncaab-mens-games/sacramento-state-@-stanford-32788743',\n",
       " 'https://sportsbook.fanduel.com/basketball/ncaab-mens-games/delaware-state-@-texas-32788857',\n",
       " 'https://sportsbook.fanduel.com/basketball/ncaa-basketball-mens-games/tennessee-@-wisconsin-32785881',\n",
       " 'https://sportsbook.fanduel.com/basketball/ncaa-basketball-mens-games/clemson-@-uab-32788826',\n",
       " 'https://sportsbook.fanduel.com/basketball/ncaa-basketball-mens-games/virginia-tech-@-south-carolina-32788649',\n",
       " 'https://sportsbook.fanduel.com/basketball/ncaab-mens-games/prairie-view-a-m-@-washington-state-32788851',\n",
       " 'https://sportsbook.fanduel.com/basketball/ncaab-mens-games/jackson-state-@-california-baptist-32788856',\n",
       " 'https://sportsbook.fanduel.com/basketball/ncaab-mens-games/uc-riverside-@-utah-32788766',\n",
       " 'https://sportsbook.fanduel.com/basketball/ncaa-basketball-mens-games/pacific-@-california-32788573',\n",
       " 'https://sportsbook.fanduel.com/basketball/ncaa-basketball-mens-games/lafayette-@-ucla-32788909',\n",
       " 'https://sportsbook.fanduel.com/basketball/ncaa-basketball-mens-games/texas-state-@-miami-(oh)-32791795',\n",
       " 'https://sportsbook.fanduel.com/basketball/ncaa-basketball-mens-games/loyola-(md)-@-brown-32791856']"
      ]
     },
     "execution_count": 49,
     "metadata": {},
     "output_type": "execute_result"
    }
   ],
   "source": [
    "links"
   ]
  },
  {
   "cell_type": "code",
   "execution_count": 26,
   "id": "2e90f451",
   "metadata": {},
   "outputs": [],
   "source": [
    "object_ = games_element.find_element(By.XPATH, \"//*[@id='main']/div/div[1]/div/div[2]/div[3]/ul/li[{}]/div/div/a\".format(7))"
   ]
  },
  {
   "cell_type": "code",
   "execution_count": 27,
   "id": "5fca2600",
   "metadata": {},
   "outputs": [
    {
     "data": {
      "text/plain": [
       "'https://sportsbook.fanduel.com/basketball/ncaab-mens-games/charleston-@-duquesne-32788691'"
      ]
     },
     "execution_count": 27,
     "metadata": {},
     "output_type": "execute_result"
    }
   ],
   "source": [
    "object_.get_attribute('href')"
   ]
  },
  {
   "cell_type": "code",
   "execution_count": null,
   "id": "a19ec235",
   "metadata": {},
   "outputs": [],
   "source": [
    "//*[@id=\"main\"]/div/div[1]/div/div[2]/div[3]/ul/li[3]/div/div/div[2]/a"
   ]
  },
  {
   "cell_type": "code",
   "execution_count": null,
   "id": "472da655",
   "metadata": {},
   "outputs": [],
   "source": [
    "//*[@id=\"main\"]/div/div[1]/div/div[2]/div[3]/ul/li[7]/div/div/a"
   ]
  }
 ],
 "metadata": {
  "kernelspec": {
   "display_name": "Python 3 (ipykernel)",
   "language": "python",
   "name": "python3"
  },
  "language_info": {
   "codemirror_mode": {
    "name": "ipython",
    "version": 3
   },
   "file_extension": ".py",
   "mimetype": "text/x-python",
   "name": "python",
   "nbconvert_exporter": "python",
   "pygments_lexer": "ipython3",
   "version": "3.9.13"
  }
 },
 "nbformat": 4,
 "nbformat_minor": 5
}
