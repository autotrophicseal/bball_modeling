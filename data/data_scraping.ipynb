{
 "cells": [
  {
   "cell_type": "code",
   "execution_count": 2,
   "id": "3a3660f7",
   "metadata": {},
   "outputs": [],
   "source": [
    "from selenium import webdriver\n",
    "from selenium.webdriver.common.keys import Keys\n",
    "from selenium.webdriver.common.by import By"
   ]
  },
  {
   "cell_type": "code",
   "execution_count": 4,
   "id": "83285a50",
   "metadata": {},
   "outputs": [],
   "source": [
    "driver = webdriver.Chrome()\n",
    "driver.get(\"https://sportsbook.fanduel.com/navigation/ncaab\")"
   ]
  },
  {
   "cell_type": "code",
   "execution_count": 5,
   "id": "01cb8de8",
   "metadata": {},
   "outputs": [],
   "source": [
    "games_element = driver.find_element(By.XPATH, \"//*[@id='main']/div/div[1]/div/div[2]/div[3]/ul\")"
   ]
  },
  {
   "cell_type": "code",
   "execution_count": 6,
   "id": "12d6502a",
   "metadata": {},
   "outputs": [],
   "source": [
    "li_elements = games_element.find_elements(By.TAG_NAME, 'li')"
   ]
  },
  {
   "cell_type": "code",
   "execution_count": 7,
   "id": "61e7865d",
   "metadata": {},
   "outputs": [],
   "source": [
    "links = []"
   ]
  },
  {
   "cell_type": "code",
   "execution_count": 8,
   "id": "8f586da6",
   "metadata": {},
   "outputs": [
    {
     "name": "stdout",
     "output_type": "stream",
     "text": [
      "Couldn't find 1\n",
      "Couldn't find 2\n",
      "Couldn't find 4\n",
      "Couldn't find 6\n",
      "Couldn't find 9\n",
      "Couldn't find 11\n",
      "Couldn't find 13\n",
      "Couldn't find 17\n",
      "Couldn't find 19\n",
      "Couldn't find 23\n",
      "Couldn't find 25\n",
      "Couldn't find 27\n",
      "Couldn't find 29\n",
      "Couldn't find 35\n",
      "Couldn't find 40\n",
      "Couldn't find 44\n",
      "Couldn't find 52\n",
      "Couldn't find 54\n",
      "Couldn't find 57\n",
      "Couldn't find 60\n",
      "Couldn't find 64\n",
      "Couldn't find 69\n",
      "Couldn't find 72\n",
      "Couldn't find 74\n",
      "Couldn't find 77\n",
      "Couldn't find 79\n",
      "Couldn't find 84\n"
     ]
    }
   ],
   "source": [
    "for i in range(1,len(li_elements)+1):\n",
    "    try:\n",
    "        object_ = games_element.find_element(By.XPATH, \"//*[@id='main']/div/div[1]/div/div[2]/div[3]/ul/li[{}]/div/div/a\".format(i))\n",
    "        links.append(object_.get_attribute('href'))\n",
    "    except Exception as e1:\n",
    "        try:\n",
    "            object_ = games_element.find_element(By.XPATH, \"//*[@id='main']/div/div[1]/div/div[2]/div[3]/ul/li[{}]/div/div/div[2]/a\".format(i))\n",
    "            links.append(object_.get_attribute('href'))\n",
    "        except Exception as e2:\n",
    "            print(\"Couldn't find {}\".format(i))"
   ]
  },
  {
   "cell_type": "code",
   "execution_count": 9,
   "id": "777da3df",
   "metadata": {},
   "outputs": [
    {
     "data": {
      "text/plain": [
       "['https://sportsbook.fanduel.com/basketball/ncaa-basketball-mens-games/utah-tech-@-jacksonville-state-32791814',\n",
       " 'https://sportsbook.fanduel.com/basketball/ncaab-mens-games/incarnate-word-@-tulsa-32792032',\n",
       " 'https://sportsbook.fanduel.com/basketball/ncaa-basketball-mens-games/northeastern-@-la-salle-32791816',\n",
       " 'https://sportsbook.fanduel.com/basketball/ncaa-basketball-mens-games/texas-southern-@-arizona-state-32791868',\n",
       " 'https://sportsbook.fanduel.com/basketball/ncaab-mens-games/marist-@-umbc-32792031',\n",
       " 'https://sportsbook.fanduel.com/basketball/ncaa-basketball-mens-games/fairleigh-dickinson-@-seton-hall-32791874',\n",
       " 'https://sportsbook.fanduel.com/basketball/ncaab-mens-games/appalachian-state-@-northern-illinois-32791891',\n",
       " 'https://sportsbook.fanduel.com/basketball/ncaab-mens-games/coppin-state-@-mount-st.-marys-32792017',\n",
       " 'https://sportsbook.fanduel.com/basketball/ncaab-mens-games/saint-peters-@-n.j.i.t-32792055',\n",
       " 'https://sportsbook.fanduel.com/basketball/ncaa-basketball-mens-games/canisius-@-st.-bonaventure-32791823',\n",
       " 'https://sportsbook.fanduel.com/basketball/ncaab-mens-games/ut-martin-@-mississippi-state-32791901',\n",
       " 'https://sportsbook.fanduel.com/basketball/ncaab-mens-games/montana-state-@-seattle-32791910',\n",
       " 'https://sportsbook.fanduel.com/basketball/ncaab-mens-games/drexel-@-winthrop-32792018',\n",
       " 'https://sportsbook.fanduel.com/basketball/ncaa-basketball-mens-games/milwaukee-@-providence-32791827',\n",
       " 'https://sportsbook.fanduel.com/basketball/ncaab-mens-games/ohio-@-cleveland-state-32791907',\n",
       " 'https://sportsbook.fanduel.com/basketball/ncaa-basketball-mens-games/fresno-state-@-kent-state-32791835',\n",
       " 'https://sportsbook.fanduel.com/basketball/ncaab-mens-games/bucknell-@-niagara-32792019',\n",
       " 'https://sportsbook.fanduel.com/basketball/ncaab-mens-games/stetson-@-unlv-32792020',\n",
       " 'https://sportsbook.fanduel.com/basketball/ncaab-mens-games/st.-francis-(pa)-@-santa-clara-32792066',\n",
       " 'https://sportsbook.fanduel.com/basketball/ncaab-mens-games/louisiana-lafayette-@-toledo-32791912',\n",
       " 'https://sportsbook.fanduel.com/basketball/ncaab-mens-games/albany-@-columbia-32792016',\n",
       " 'https://sportsbook.fanduel.com/basketball/ncaa-basketball-mens-games/siena-@-richmond-32791839',\n",
       " 'https://sportsbook.fanduel.com/basketball/ncaa-basketball-mens-games/holy-cross-@-georgetown-32791895',\n",
       " 'https://sportsbook.fanduel.com/basketball/ncaa-basketball-mens-games/utah-state-@-bradley-32791847',\n",
       " 'https://sportsbook.fanduel.com/basketball/ncaa-basketball-mens-games/illinois-state-@-saint-louis-32791837',\n",
       " 'https://sportsbook.fanduel.com/basketball/ncaab-mens-games/nebraska-omaha-@-north-texas-32791902',\n",
       " 'https://sportsbook.fanduel.com/basketball/ncaab-mens-games/eastern-illinois-@-loyola-chicago-32791905',\n",
       " 'https://sportsbook.fanduel.com/basketball/ncaab-mens-games/cal-poly-@-wyoming-32791920',\n",
       " 'https://sportsbook.fanduel.com/basketball/ncaa-basketball-mens-games/new-mexico-state-@-uc-irvine-32791855',\n",
       " 'https://sportsbook.fanduel.com/basketball/ncaa-basketball-mens-games/san-diego-@-uc-san-diego-32791854',\n",
       " 'https://sportsbook.fanduel.com/basketball/ncaa-basketball-mens-games/long-beach-state-@-depaul-32791853',\n",
       " 'https://sportsbook.fanduel.com/basketball/ncaa-basketball-mens-games/eastern-washington-@-cincinnati-32794876',\n",
       " 'https://sportsbook.fanduel.com/basketball/ncaa-basketball-mens-games/bryant-@-rutgers-32794861',\n",
       " 'https://sportsbook.fanduel.com/basketball/ncaa-basketball-mens-games/uab-@-maryland-32794885',\n",
       " 'https://sportsbook.fanduel.com/basketball/ncaa-basketball-mens-games/idaho-state-@-iowa-state-32794890',\n",
       " 'https://sportsbook.fanduel.com/basketball/ncaab-mens-games/air-force-@-delaware-32794785',\n",
       " 'https://sportsbook.fanduel.com/basketball/ncaa-basketball-mens-games/lehigh-@-north-carolina-32794916',\n",
       " 'https://sportsbook.fanduel.com/basketball/ncaa-basketball-mens-games/san-jose-st-@-texas-tech-32794920',\n",
       " 'https://sportsbook.fanduel.com/basketball/ncaab-mens-games/elon-@-north-dakota-32794784',\n",
       " 'https://sportsbook.fanduel.com/basketball/ncaab-mens-games/texas-a-m-commerce-@-purdue-fort-wayne-32794823',\n",
       " 'https://sportsbook.fanduel.com/basketball/ncaa-basketball-mens-games/clemson-@-davidson-32794929',\n",
       " 'https://sportsbook.fanduel.com/basketball/ncaa-basketball-mens-games/sam-houston-state-@-oklahoma-state-32794922',\n",
       " 'https://sportsbook.fanduel.com/basketball/ncaa-basketball-mens-games/san-francisco-@-boise-state-32794906',\n",
       " 'https://sportsbook.fanduel.com/basketball/ncaab-mens-games/lafayette-college-@-pepperdine-32794826',\n",
       " 'https://sportsbook.fanduel.com/basketball/ncaab-mens-games/howard-@-james-madison-32794828',\n",
       " 'https://sportsbook.fanduel.com/basketball/ncaab-mens-games/merrimack-@-maine-32794822',\n",
       " 'https://sportsbook.fanduel.com/basketball/ncaab-mens-games/chicago-state-@-southern-indiana-32794825',\n",
       " 'https://sportsbook.fanduel.com/basketball/ncaa-basketball-mens-games/north-carolina-central-@-georgia-32794944',\n",
       " 'https://sportsbook.fanduel.com/basketball/ncaa-basketball-mens-games/gardner-webb-@-baylor-32794943',\n",
       " 'https://sportsbook.fanduel.com/basketball/ncaab-mens-games/uc-riverside-@-portland-32794816',\n",
       " 'https://sportsbook.fanduel.com/basketball/ncaa-basketball-mens-games/yale-@-loyola-marymount-32794950',\n",
       " 'https://sportsbook.fanduel.com/basketball/ncaa-basketball-mens-games/army-@-indiana-32794953',\n",
       " 'https://sportsbook.fanduel.com/basketball/ncaab-mens-games/robert-morris-@-towson-32794810',\n",
       " \"https://sportsbook.fanduel.com/basketball/ncaa-basketball-mens-games/weber-state-@-saint-mary's-32794952\",\n",
       " 'https://sportsbook.fanduel.com/basketball/ncaa-basketball-mens-games/uc-davis-@-montana-32794954',\n",
       " 'https://sportsbook.fanduel.com/basketball/ncaa-basketball-mens-games/michigan-state-@-duke-32788617',\n",
       " 'https://sportsbook.fanduel.com/basketball/ncaa-basketball-mens-games/kansas-@-kentucky-32788580']"
      ]
     },
     "execution_count": 9,
     "metadata": {},
     "output_type": "execute_result"
    }
   ],
   "source": [
    "links"
   ]
  },
  {
   "cell_type": "code",
   "execution_count": 11,
   "id": "f25e6951",
   "metadata": {},
   "outputs": [],
   "source": [
    "driver = webdriver.Chrome()\n",
    "driver.get(links[1])"
   ]
  },
  {
   "cell_type": "code",
   "execution_count": 26,
   "id": "5455f63a",
   "metadata": {},
   "outputs": [],
   "source": [
    "object_ = games_element.find_element(By.XPATH, \"//*[@id='main']/div/div[1]/div/div[2]/div[3]/ul/li[{}]/div/div/a\".format(7))"
   ]
  },
  {
   "cell_type": "code",
   "execution_count": 27,
   "id": "1f59f680",
   "metadata": {},
   "outputs": [
    {
     "data": {
      "text/plain": [
       "'https://sportsbook.fanduel.com/basketball/ncaab-mens-games/charleston-@-duquesne-32788691'"
      ]
     },
     "execution_count": 27,
     "metadata": {},
     "output_type": "execute_result"
    }
   ],
   "source": [
    "object_.get_attribute('href')"
   ]
  },
  {
   "cell_type": "code",
   "execution_count": null,
   "id": "3afcfc13",
   "metadata": {},
   "outputs": [],
   "source": [
    "//*[@id=\"main\"]/div/div[1]/div/div[2]/div[3]/ul/li[3]/div/div/div[2]/a"
   ]
  },
  {
   "cell_type": "code",
   "execution_count": null,
   "id": "c429cc28",
   "metadata": {},
   "outputs": [],
   "source": [
    "//*[@id=\"main\"]/div/div[1]/div/div[2]/div[3]/ul/li[7]/div/div/a"
   ]
  }
 ],
 "metadata": {
  "kernelspec": {
   "display_name": "Python 3 (ipykernel)",
   "language": "python",
   "name": "python3"
  },
  "language_info": {
   "codemirror_mode": {
    "name": "ipython",
    "version": 3
   },
   "file_extension": ".py",
   "mimetype": "text/x-python",
   "name": "python",
   "nbconvert_exporter": "python",
   "pygments_lexer": "ipython3",
   "version": "3.9.13"
  }
 },
 "nbformat": 4,
 "nbformat_minor": 5
}
